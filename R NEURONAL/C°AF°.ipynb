{
  "nbformat": 4,
  "nbformat_minor": 0,
  "metadata": {
    "colab": {
      "provenance": []
    },
    "kernelspec": {
      "name": "python3",
      "display_name": "Python 3"
    },
    "language_info": {
      "name": "python"
    }
  },
  "cells": [
    {
      "cell_type": "markdown",
      "source": [
        "\n",
        "\n",
        "```\n",
        "## Tiene formato de código **texto en negrita**:\n",
        "```\n",
        "\n",
        "CONVERTIR C° A F°"
      ],
      "metadata": {
        "id": "oQ42fk14B-wv"
      }
    },
    {
      "cell_type": "markdown",
      "source": [],
      "metadata": {
        "id": "gxK_oJWKCEgo"
      }
    },
    {
      "cell_type": "code",
      "source": [
        "import tensorflow as tf\n",
        "import numpy as np"
      ],
      "metadata": {
        "id": "Zba_yzMR9dVy"
      },
      "execution_count": 1,
      "outputs": []
    },
    {
      "cell_type": "code",
      "source": [
        "celsius=np.array([-40,-25,-10,0,10,25,35,50])\n",
        "farenheit=np.array([-40,-13,14,32,50,77,95,122])"
      ],
      "metadata": {
        "id": "CVmVn6RF9tGv"
      },
      "execution_count": 2,
      "outputs": []
    },
    {
      "cell_type": "code",
      "source": [
        "#CON UNA NEURONA\n",
        "#capa=tf.keras.layers.Dense(units=1,input_shape=[1])\n",
        "#modelo=tf.keras.Sequential([capa])\n",
        "\n",
        "#CON MAS NEURONAS\n",
        "capa1=tf.keras.layers.Dense(units=3,input_shape=[1])\n",
        "capa2=tf.keras.layers.Dense(units=3)\n",
        "salida=tf.keras.layers.Dense(units=1)\n",
        "modelo=tf.keras.Sequential([capa1,capa2,salida])\n"
      ],
      "metadata": {
        "id": "DUCqQH83-J_C"
      },
      "execution_count": 17,
      "outputs": []
    },
    {
      "cell_type": "code",
      "source": [
        "modelo.compile(\n",
        "    optimizer=tf.keras.optimizers.Adam(0.1),\n",
        "    loss='mean_squared_error'\n",
        ")"
      ],
      "metadata": {
        "id": "DE6cxeTd-dQ5"
      },
      "execution_count": 20,
      "outputs": []
    },
    {
      "cell_type": "code",
      "source": [
        "historia=modelo.fit(celsius,farenheit,epochs=50)\n",
        "print(\"Modelo entrenado\")"
      ],
      "metadata": {
        "colab": {
          "base_uri": "https://localhost:8080/"
        },
        "id": "rBgcanve-xjk",
        "outputId": "5458d9a6-69cf-4e96-d1d7-45efa28f3172"
      },
      "execution_count": 23,
      "outputs": [
        {
          "output_type": "stream",
          "name": "stdout",
          "text": [
            "Epoch 1/50\n",
            "1/1 [==============================] - 0s 11ms/step - loss: 1.2772e-08\n",
            "Epoch 2/50\n",
            "1/1 [==============================] - 0s 10ms/step - loss: 5.8503e-10\n",
            "Epoch 3/50\n",
            "1/1 [==============================] - 0s 10ms/step - loss: 8.3506e-09\n",
            "Epoch 4/50\n",
            "1/1 [==============================] - 0s 10ms/step - loss: 2.5907e-09\n",
            "Epoch 5/50\n",
            "1/1 [==============================] - 0s 10ms/step - loss: 3.6580e-09\n",
            "Epoch 6/50\n",
            "1/1 [==============================] - 0s 10ms/step - loss: 3.9677e-09\n",
            "Epoch 7/50\n",
            "1/1 [==============================] - 0s 10ms/step - loss: 1.0477e-09\n",
            "Epoch 8/50\n",
            "1/1 [==============================] - 0s 12ms/step - loss: 4.3674e-09\n",
            "Epoch 9/50\n",
            "1/1 [==============================] - 0s 12ms/step - loss: 1.2824e-10\n",
            "Epoch 10/50\n",
            "1/1 [==============================] - 0s 10ms/step - loss: 3.9422e-09\n",
            "Epoch 11/50\n",
            "1/1 [==============================] - 0s 10ms/step - loss: 2.9740e-10\n",
            "Epoch 12/50\n",
            "1/1 [==============================] - 0s 12ms/step - loss: 2.8140e-09\n",
            "Epoch 13/50\n",
            "1/1 [==============================] - 0s 9ms/step - loss: 1.6057e-09\n",
            "Epoch 14/50\n",
            "1/1 [==============================] - 0s 9ms/step - loss: 6.7348e-10\n",
            "Epoch 15/50\n",
            "1/1 [==============================] - 0s 10ms/step - loss: 1.9068e-09\n",
            "Epoch 16/50\n",
            "1/1 [==============================] - 0s 10ms/step - loss: 8.0945e-11\n",
            "Epoch 17/50\n",
            "1/1 [==============================] - 0s 8ms/step - loss: 1.5111e-09\n",
            "Epoch 18/50\n",
            "1/1 [==============================] - 0s 12ms/step - loss: 1.3915e-10\n",
            "Epoch 19/50\n",
            "1/1 [==============================] - 0s 11ms/step - loss: 6.9167e-10\n",
            "Epoch 20/50\n",
            "1/1 [==============================] - 0s 10ms/step - loss: 1.8417e-10\n",
            "Epoch 21/50\n",
            "1/1 [==============================] - 0s 9ms/step - loss: 5.7344e-10\n",
            "Epoch 22/50\n",
            "1/1 [==============================] - 0s 11ms/step - loss: 5.7844e-10\n",
            "Epoch 23/50\n",
            "1/1 [==============================] - 0s 9ms/step - loss: 1.1551e-10\n",
            "Epoch 24/50\n",
            "1/1 [==============================] - 0s 9ms/step - loss: 5.9163e-10\n",
            "Epoch 25/50\n",
            "1/1 [==============================] - 0s 10ms/step - loss: 1.5007e-11\n",
            "Epoch 26/50\n",
            "1/1 [==============================] - 0s 10ms/step - loss: 4.1746e-10\n",
            "Epoch 27/50\n",
            "1/1 [==============================] - 0s 10ms/step - loss: 2.4102e-11\n",
            "Epoch 28/50\n",
            "1/1 [==============================] - 0s 10ms/step - loss: 3.6471e-10\n",
            "Epoch 29/50\n",
            "1/1 [==============================] - 0s 10ms/step - loss: 2.5148e-10\n",
            "Epoch 30/50\n",
            "1/1 [==============================] - 0s 10ms/step - loss: 1.7280e-10\n",
            "Epoch 31/50\n",
            "1/1 [==============================] - 0s 11ms/step - loss: 5.9526e-10\n",
            "Epoch 32/50\n",
            "1/1 [==============================] - 0s 11ms/step - loss: 5.4570e-11\n",
            "Epoch 33/50\n",
            "1/1 [==============================] - 0s 11ms/step - loss: 6.0481e-11\n",
            "Epoch 34/50\n",
            "1/1 [==============================] - 0s 9ms/step - loss: 1.0914e-11\n",
            "Epoch 35/50\n",
            "1/1 [==============================] - 0s 9ms/step - loss: 1.6371e-11\n",
            "Epoch 36/50\n",
            "1/1 [==============================] - 0s 13ms/step - loss: 4.4565e-11\n",
            "Epoch 37/50\n",
            "1/1 [==============================] - 0s 11ms/step - loss: 8.7766e-11\n",
            "Epoch 38/50\n",
            "1/1 [==============================] - 0s 11ms/step - loss: 1.1369e-11\n",
            "Epoch 39/50\n",
            "1/1 [==============================] - 0s 9ms/step - loss: 1.0368e-10\n",
            "Epoch 40/50\n",
            "1/1 [==============================] - 0s 10ms/step - loss: 1.1369e-11\n",
            "Epoch 41/50\n",
            "1/1 [==============================] - 0s 10ms/step - loss: 1.2278e-10\n",
            "Epoch 42/50\n",
            "1/1 [==============================] - 0s 10ms/step - loss: 1.8645e-11\n",
            "Epoch 43/50\n",
            "1/1 [==============================] - 0s 11ms/step - loss: 2.7649e-10\n",
            "Epoch 44/50\n",
            "1/1 [==============================] - 0s 11ms/step - loss: 2.5011e-10\n",
            "Epoch 45/50\n",
            "1/1 [==============================] - 0s 11ms/step - loss: 1.3642e-11\n",
            "Epoch 46/50\n",
            "1/1 [==============================] - 0s 11ms/step - loss: 6.7757e-11\n",
            "Epoch 47/50\n",
            "1/1 [==============================] - 0s 10ms/step - loss: 4.9113e-11\n",
            "Epoch 48/50\n",
            "1/1 [==============================] - 0s 12ms/step - loss: 1.1278e-10\n",
            "Epoch 49/50\n",
            "1/1 [==============================] - 0s 11ms/step - loss: 7.8671e-11\n",
            "Epoch 50/50\n",
            "1/1 [==============================] - 0s 10ms/step - loss: 4.0200e-10\n",
            "Modelo entrenado\n"
          ]
        }
      ]
    },
    {
      "cell_type": "code",
      "source": [
        "# Valor en grados Celsius a convertir a Fahrenheit\n",
        "#celsius_value = [30,20,15,18]\n",
        "\n",
        "# Realizar la predicción\n",
        "fahrenheit_value = modelo.predict([30,20,15])\n",
        "\n",
        "# Imprimir el resultado\n",
        "print(fahrenheit_value)"
      ],
      "metadata": {
        "colab": {
          "base_uri": "https://localhost:8080/"
        },
        "id": "zHoIZTtf_Y7i",
        "outputId": "44edb47b-169d-4f9c-9d06-5949b23acb92"
      },
      "execution_count": 24,
      "outputs": [
        {
          "output_type": "stream",
          "name": "stdout",
          "text": [
            "1/1 [==============================] - 0s 44ms/step\n",
            "[[86.      ]\n",
            " [68.      ]\n",
            " [59.000004]]\n"
          ]
        }
      ]
    }
  ]
}